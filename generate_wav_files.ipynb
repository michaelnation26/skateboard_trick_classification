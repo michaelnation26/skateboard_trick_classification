{
 "cells": [
  {
   "cell_type": "code",
   "execution_count": null,
   "metadata": {
    "colab": {},
    "colab_type": "code",
    "id": "KWWb3-1_j4eM"
   },
   "outputs": [],
   "source": [
    "import glob\n",
    "import subprocess"
   ]
  },
  {
   "cell_type": "code",
   "execution_count": null,
   "metadata": {},
   "outputs": [],
   "source": [
    "TRAIN_DIR = 'data/train'\n",
    "VIDEO_DIR = f'{TRAIN_DIR}/video'"
   ]
  },
  {
   "cell_type": "code",
   "execution_count": null,
   "metadata": {},
   "outputs": [],
   "source": [
    "def get_filepaths(directory):\n",
    "    filepaths = []\n",
    "    subdirs_pathname = os.path.join(directory, \"*\")\n",
    "    subdirs = glob.glob(subdirs_pathname)\n",
    "    for subdir in subdirs:\n",
    "        pathname = os.path.join(subdir, \"*\")\n",
    "        filepaths += glob.glob(pathname)\n",
    "\n",
    "    return filepaths"
   ]
  },
  {
   "cell_type": "code",
   "execution_count": null,
   "metadata": {},
   "outputs": [],
   "source": [
    "video_filepaths = get_filepaths(VIDEO_DIR)\n",
    "for video_filepath in video_filepaths:\n",
    "    output_wav_path = video_filepath.replace('video', 'audio').replace('mp4', 'wav')\n",
    "    command = f'ffmpeg -i {video_filepath} -ac 2 -y -vn {output_wav_path}'\n",
    "    subprocess.call(command, shell=True)"
   ]
  },
  {
   "cell_type": "code",
   "execution_count": null,
   "metadata": {
    "colab": {},
    "colab_type": "code",
    "id": "YdhDzsqdAKu9"
   },
   "outputs": [],
   "source": []
  }
 ],
 "metadata": {
  "accelerator": "GPU",
  "colab": {
   "collapsed_sections": [],
   "name": "train_model.ipynb",
   "provenance": [],
   "version": "0.3.2"
  },
  "kernelspec": {
   "display_name": "Python 3",
   "language": "python",
   "name": "python3"
  },
  "language_info": {
   "codemirror_mode": {
    "name": "ipython",
    "version": 3
   },
   "file_extension": ".py",
   "mimetype": "text/x-python",
   "name": "python",
   "nbconvert_exporter": "python",
   "pygments_lexer": "ipython3",
   "version": "3.7.3"
  }
 },
 "nbformat": 4,
 "nbformat_minor": 1
}
