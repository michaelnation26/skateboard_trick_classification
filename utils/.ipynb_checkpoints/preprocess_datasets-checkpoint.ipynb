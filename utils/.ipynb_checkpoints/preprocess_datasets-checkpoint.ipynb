{
 "cells": [
  {
   "cell_type": "code",
   "execution_count": null,
   "metadata": {},
   "outputs": [],
   "source": [
    "import glob\n",
    "from shutil import copyfile\n",
    "import os\n",
    "import random\n",
    "import subprocess\n",
    "import sys\n",
    "\n",
    "import librosa\n",
    "import librosa.display\n",
    "import matplotlib.pyplot as plt\n",
    "import numpy as np\n",
    "\n",
    "import config"
   ]
  },
  {
   "cell_type": "code",
   "execution_count": null,
   "metadata": {},
   "outputs": [],
   "source": [
    "# change current directory to project root\n",
    "current_dir = os.getcwd().split('/')[-1]\n",
    "if current_dir != 'skateboard_trick_classification': \n",
    "    %cd '..'"
   ]
  },
  {
   "cell_type": "code",
   "execution_count": null,
   "metadata": {},
   "outputs": [],
   "source": [
    "def delete_files_in_class_folders(root_dir):\n",
    "    pathname = os.path.join(root_dir, \"*/*\")\n",
    "    filepaths = glob.glob(pathname)\n",
    "    for filepath in filepaths:\n",
    "        os.remove(filepath)"
   ]
  },
  {
   "cell_type": "markdown",
   "metadata": {},
   "source": [
    "# Video Dataset"
   ]
  },
  {
   "cell_type": "markdown",
   "metadata": {},
   "source": [
    "## Delete existing videos in training and validation directories"
   ]
  },
  {
   "cell_type": "code",
   "execution_count": null,
   "metadata": {},
   "outputs": [],
   "source": [
    "delete_files_in_class_folders(config.VIDEO_TRAINING_DIR)\n",
    "delete_files_in_class_folders(config.VIDEO_VALIDATION_DIR)"
   ]
  },
  {
   "cell_type": "markdown",
   "metadata": {},
   "source": [
    "## Copy videos into training and validation directories"
   ]
  },
  {
   "cell_type": "code",
   "execution_count": null,
   "metadata": {},
   "outputs": [],
   "source": [
    "def copy_files(filepaths, subdir='training'):\n",
    "    for filepath in filepaths:\n",
    "        new_filepath = filepath.replace('training_validation', subdir)\n",
    "        copyfile(filepath, new_filepath)\n",
    "\n",
    "def video_training_validation_split(class_dir):\n",
    "    pathname = os.path.join(class_dir, \"*\")\n",
    "    filepaths = glob.glob(pathname)\n",
    "    random.shuffle(filepaths)\n",
    "    \n",
    "    n_training = int((1.0-config.VALIDATION_SPLIT) * len(filepaths))\n",
    "    training_filepaths = filepaths[:n_training]\n",
    "    copy_files(training_filepaths, subdir='training')\n",
    "    validation_filepaths = filepaths[n_training:]\n",
    "    copy_files(validation_filepaths, subdir='validation')"
   ]
  },
  {
   "cell_type": "code",
   "execution_count": null,
   "metadata": {
    "scrolled": true
   },
   "outputs": [],
   "source": [
    "class_pathname = os.path.join(config.VIDEO_TRAINING_VALIDATION_DIR, \"*\")\n",
    "class_dirs = glob.glob(class_pathname)\n",
    "for class_dir in class_dirs:\n",
    "    video_training_validation_split(class_dir)"
   ]
  },
  {
   "cell_type": "markdown",
   "metadata": {},
   "source": [
    "# Audio Dataset"
   ]
  },
  {
   "cell_type": "markdown",
   "metadata": {},
   "source": [
    "## Delete existing WAV files in training and validation directories"
   ]
  },
  {
   "cell_type": "code",
   "execution_count": null,
   "metadata": {},
   "outputs": [],
   "source": [
    "delete_files_in_class_folders(config.WAV_TRAINING_DIR)\n",
    "delete_files_in_class_folders(config.WAV_VALIDATION_DIR)\n",
    "delete_files_in_class_folders(config.WAV_TEST_DIR)"
   ]
  },
  {
   "cell_type": "markdown",
   "metadata": {},
   "source": [
    "## Generate WAV files"
   ]
  },
  {
   "cell_type": "code",
   "execution_count": null,
   "metadata": {},
   "outputs": [],
   "source": [
    "def create_wav_files_from_videos(video_dir, wav_dir):\n",
    "    video_pathname = os.path.join(video_dir, \"*/*\")\n",
    "    video_filepaths = glob.glob(video_pathname)\n",
    "    for video_filepath in video_filepaths:\n",
    "        video_label = video_filepath.split('/')[-2]\n",
    "        audio_label = config.VIDEO_TO_AUDIO_LABEL_MAPPING.get(video_label)\n",
    "        if not audio_label:\n",
    "            continue\n",
    "        wav_file_name = video_filepath.split('/')[-1].replace('.mp4', '.wav')\n",
    "        output_wav_path = f'{wav_dir}/{audio_label}/{video_label}_{wav_file_name}'\n",
    "        command = f'ffmpeg -i {video_filepath} -ac 2 -y -vn {output_wav_path}'\n",
    "        code = subprocess.call(command, shell=True)\n",
    "        if code == 1:\n",
    "            print(f'Error: {video_filepath}, {output_wav_path}')"
   ]
  },
  {
   "cell_type": "code",
   "execution_count": null,
   "metadata": {},
   "outputs": [],
   "source": [
    "create_wav_files_from_videos(config.VIDEO_TRAINING_DIR, config.WAV_TRAINING_DIR)\n",
    "create_wav_files_from_videos(config.VIDEO_VALIDATION_DIR, config.WAV_VALIDATION_DIR)\n",
    "create_wav_files_from_videos(config.VIDEO_TEST_DIR, config.WAV_TEST_DIR)"
   ]
  },
  {
   "cell_type": "markdown",
   "metadata": {},
   "source": [
    "## Delete existing spectrograms in training and validation directories"
   ]
  },
  {
   "cell_type": "code",
   "execution_count": null,
   "metadata": {},
   "outputs": [],
   "source": [
    "delete_files_in_class_folders(config.SPECTROGRAM_TRAINING_DIR)\n",
    "delete_files_in_class_folders(config.SPECTROGRAM_VALIDATION_DIR)\n",
    "delete_files_in_class_folders(config.SPECTROGRAM_TEST_DIR)"
   ]
  },
  {
   "cell_type": "markdown",
   "metadata": {},
   "source": [
    "## Generate Mel-Spectrograms"
   ]
  },
  {
   "cell_type": "code",
   "execution_count": null,
   "metadata": {},
   "outputs": [],
   "source": [
    "def create_spectrograms_from_wav_files(wav_dir):\n",
    "    wav_pathname = os.path.join(wav_dir, \"*/*\")\n",
    "    wav_filepaths = glob.glob(wav_pathname)\n",
    "    for wav_filepath in wav_filepaths:\n",
    "        clip, sample_rate = librosa.load(wav_filepath, sr=None)\n",
    "        S = librosa.feature.melspectrogram(y=clip, sr=sample_rate)\n",
    "        fig = plt.figure(figsize=[1, 1])\n",
    "        # next three lines are used to remove white border around image\n",
    "        ax = plt.Axes(fig, [0., 0., 1., 1.])\n",
    "        ax.set_axis_off()\n",
    "        fig.add_axes(ax)\n",
    "        S_db = librosa.power_to_db(S, ref=np.max)\n",
    "        librosa.display.specshow(S_db)\n",
    "\n",
    "        spectogram_filepath = wav_filepath.replace('/wav/', '/spectrogram/').replace('.wav', '.jpg')\n",
    "        fig.savefig(spectogram_filepath, dpi=224, pad_inches=0)\n",
    "        plt.close()"
   ]
  },
  {
   "cell_type": "code",
   "execution_count": null,
   "metadata": {},
   "outputs": [],
   "source": [
    "create_spectrograms_from_wav_files(config.WAV_TRAINING_DIR)\n",
    "create_spectrograms_from_wav_files(config.WAV_VALIDATION_DIR)\n",
    "create_spectrograms_from_wav_files(config.WAV_TEST_DIR)"
   ]
  },
  {
   "cell_type": "code",
   "execution_count": null,
   "metadata": {},
   "outputs": [],
   "source": []
  }
 ],
 "metadata": {
  "kernelspec": {
   "display_name": "Python 3",
   "language": "python",
   "name": "python3"
  },
  "language_info": {
   "codemirror_mode": {
    "name": "ipython",
    "version": 3
   },
   "file_extension": ".py",
   "mimetype": "text/x-python",
   "name": "python",
   "nbconvert_exporter": "python",
   "pygments_lexer": "ipython3",
   "version": "3.7.3"
  }
 },
 "nbformat": 4,
 "nbformat_minor": 2
}
