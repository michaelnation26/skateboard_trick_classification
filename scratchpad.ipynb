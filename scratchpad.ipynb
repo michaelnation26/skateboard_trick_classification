{
 "cells": [
  {
   "cell_type": "code",
   "execution_count": 7,
   "metadata": {},
   "outputs": [],
   "source": [
    "import cv2\n",
    "import glob\n",
    "import numpy as np\n",
    "import os\n",
    "import random\n",
    "import tensorflow as tf"
   ]
  },
  {
   "cell_type": "code",
   "execution_count": 28,
   "metadata": {},
   "outputs": [],
   "source": [
    "img = np.array(Image.open(\"dog.jpeg\"))\n",
    "h, w = img.shape[:2]\n",
    "min_size = min(h, w)\n",
    "h_new = (h/min_size) * 299\n",
    "w_new = (w/min_size) * 299\n",
    "\n",
    "resized = tf.image.resize_images(img, (h_new, w_new)).numpy().astype(np.uint8)\n",
    "Image.fromarray(resized).save(\"resized.jpeg\")"
   ]
  },
  {
   "cell_type": "code",
   "execution_count": 30,
   "metadata": {},
   "outputs": [],
   "source": [
    "class DataGenerator:\n",
    "    \n",
    "    def __init__(self, train_dir=None, test_dir=None, shuffle_train=False, validation_split=0.0, \n",
    "                 n_frames=16):\n",
    "        self.n_frames = n_frames\n",
    "        self.frame_h = 224\n",
    "        self.frame_w = 224\n",
    "        self.classes = [\"kickflip\", \"heelflip\"]\n",
    "        self.n_classes = len(self.classes)\n",
    "        self.label_encoder = preprocessing.LabelEncoder()\n",
    "        self.label_encoder.fit(self.classes)\n",
    "        \n",
    "        if train_dir:\n",
    "            pathname = os.path.join(train_dir, \"*\")\n",
    "            filepaths = glob.glob(pathname)\n",
    "            if shuffle_train:\n",
    "                random.shuffle(filepaths)\n",
    "            \n",
    "            n_train = int((1.0-validation_split) * len(filepaths))\n",
    "            self.train_filepaths = filepaths[:n_train]\n",
    "            self.val_filepaths = filepaths[n_train:]\n",
    "            \n",
    "    def get_train_generator(self):\n",
    "        while True:\n",
    "            for train_filepath in self.train_filepaths:\n",
    "                frames = self._get_frames(train_filepath)\n",
    "                label = self._get_label(train_filepath)\n",
    "                labels_encoded = self.label_encoder.transform([label])\n",
    "                labels_one_hot = to_categorical(labels_encoded, \n",
    "                                                num_classes=self.n_classes).astype(int)\n",
    "\n",
    "                yield np.array([frames]), labels_one_hot\n",
    "\n",
    "    def _get_frames(self, filepath):\n",
    "        video = cv2.VideoCapture(filepath)\n",
    "        if not video.isOpened():\n",
    "            raise FileNotFoundError(\"The input video path you provided is invalid.\")\n",
    "        \n",
    "        frames = []\n",
    "        while video.isOpened():\n",
    "            grabbed, frame_bgr = video.read()\n",
    "            if not grabbed:\n",
    "                break\n",
    "            frame_rgb = cv2.cvtColor(frame_bgr, cv2.COLOR_BGR2RGB)\n",
    "            frames.append(frame_rgb)\n",
    "        video.release()\n",
    "        \n",
    "        if len(frames) < self.n_frames:\n",
    "            n_pad_frames = self.n_frames - len(frames)\n",
    "            for _ in range(n_pad_frames):\n",
    "                blank_frame = np.zeros((self.frame_h, self.frame_w, 3))\n",
    "                frames.append(blank_frame)\n",
    "        \n",
    "        frames_processed = []\n",
    "        current_ix = 0\n",
    "        step_size = len(frames) / float(self.n_frames)\n",
    "        for _ in range(self.n_frames):\n",
    "            frame = cv2.resize(frames[int(current_ix)], (self.frame_h, self.frame_w))\n",
    "            frames_processed.append(frame)\n",
    "            current_ix += step_size\n",
    "        \n",
    "        return frames_processed\n",
    "\n",
    "    def _get_label(self, filepath):\n",
    "        file_name = filepath.split(\"/\")[-1]\n",
    "        return file_name.split(\"-\")[0]"
   ]
  },
  {
   "cell_type": "code",
   "execution_count": 31,
   "metadata": {},
   "outputs": [],
   "source": [
    "dg = DataGenerator(train_dir=\"train\")\n",
    "train_gen = dg.get_train_generator()"
   ]
  },
  {
   "cell_type": "code",
   "execution_count": null,
   "metadata": {},
   "outputs": [],
   "source": []
  }
 ],
 "metadata": {
  "kernelspec": {
   "display_name": "Python 3",
   "language": "python",
   "name": "python3"
  },
  "language_info": {
   "codemirror_mode": {
    "name": "ipython",
    "version": 3
   },
   "file_extension": ".py",
   "mimetype": "text/x-python",
   "name": "python",
   "nbconvert_exporter": "python",
   "pygments_lexer": "ipython3",
   "version": "3.6.3"
  }
 },
 "nbformat": 4,
 "nbformat_minor": 2
}
